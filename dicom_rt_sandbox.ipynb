{
 "cells": [
  {
   "cell_type": "code",
   "execution_count": null,
   "metadata": {},
   "outputs": [],
   "source": [
    "from DicomRTTool.ReaderWriter import DicomReaderWriter, ROIAssociationClass"
   ]
  },
  {
   "cell_type": "code",
   "execution_count": null,
   "metadata": {},
   "outputs": [],
   "source": [
    "Dicom_reader = DicomReaderWriter(description='Examples', arg_max=True)\n",
    "print('Estimated 30 seconds, depending on number of cores present in your computer')\n",
    "Dicom_reader.walk_through_folders(DICOM_path) # need to define in order to use all_roi method"
   ]
  }
 ],
 "metadata": {
  "kernelspec": {
   "display_name": ".venv",
   "language": "python",
   "name": "python3"
  },
  "language_info": {
   "name": "python",
   "version": "3.12.0"
  }
 },
 "nbformat": 4,
 "nbformat_minor": 2
}
